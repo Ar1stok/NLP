{
  "nbformat": 4,
  "nbformat_minor": 0,
  "metadata": {
    "colab": {
      "provenance": [],
      "toc_visible": true,
      "gpuType": "T4",
      "include_colab_link": true
    },
    "kernelspec": {
      "name": "python3",
      "display_name": "Python 3"
    },
    "language_info": {
      "name": "python"
    },
    "accelerator": "GPU"
  },
  "cells": [
    {
      "cell_type": "markdown",
      "metadata": {
        "id": "view-in-github",
        "colab_type": "text"
      },
      "source": [
        "<a href=\"https://colab.research.google.com/github/Ar1stok/NLP/blob/main/ner_bert.ipynb\" target=\"_parent\"><img src=\"https://colab.research.google.com/assets/colab-badge.svg\" alt=\"Open In Colab\"/></a>"
      ]
    },
    {
      "cell_type": "markdown",
      "source": [
        "# Распознавание именованных сущностей с использованием BERT"
      ],
      "metadata": {
        "id": "gXrbnS0Lh9ZC"
      }
    },
    {
      "cell_type": "markdown",
      "source": [
        "**Описание:**\n",
        "\n",
        "Целью данной лабораторной работы является применение модели BERT для распознавания именованных сущностей (NER) на текстах из астрофизики. Вы обучите модель на специализированном датасете и оцените её качество, используя метрику F1 для сущностей."
      ],
      "metadata": {
        "id": "ue5FHv2riAcH"
      }
    },
    {
      "cell_type": "markdown",
      "source": [
        "## 1. Настройка среды"
      ],
      "metadata": {
        "id": "9SPWGLRYiMyG"
      }
    },
    {
      "cell_type": "markdown",
      "source": [
        "- Установите необходимые библиотеки: `transformers`, `datasets`, `seqeval`, `evaluate`, `spacy`, `tensorboard`.\n",
        "- Инструменты: `pip` для установки библиотек."
      ],
      "metadata": {
        "id": "qwyytVWDiROO"
      }
    },
    {
      "cell_type": "code",
      "execution_count": 1,
      "metadata": {
        "id": "YWsdfOOxhdyV"
      },
      "outputs": [],
      "source": [
        "!pip install -q datasets transformers evaluate seqeval"
      ]
    },
    {
      "cell_type": "code",
      "source": [
        "from datasets import load_dataset, Dataset\n",
        "import evaluate\n",
        "import numpy as np\n",
        "from sklearn.metrics import classification_report\n",
        "import torch\n",
        "from transformers import AutoTokenizer, AutoModelForTokenClassification\n",
        "from transformers import DataCollatorForTokenClassification\n",
        "from transformers import TrainingArguments, Trainer\n",
        "from transformers import pipeline"
      ],
      "metadata": {
        "id": "_LqMBmC8E8Sv"
      },
      "execution_count": 2,
      "outputs": []
    },
    {
      "cell_type": "code",
      "source": [
        "TOKEN_MODEL_NAME = 'google-bert/bert-base-cased'\n",
        "DATASET_NAME = 'adsabs/WIESP2022-NER'\n",
        "MODEL_NAME = 'FacebookAI/xlm-roberta-base'\n",
        "BATCH_SIZE = 4\n",
        "EPOCH = 10\n",
        "LR = 5e-5"
      ],
      "metadata": {
        "id": "VG3oiUB1Fc5V"
      },
      "execution_count": 3,
      "outputs": []
    },
    {
      "cell_type": "markdown",
      "source": [
        "## 2. Загрузка и предварительная обработка данных"
      ],
      "metadata": {
        "id": "QUwwFDJqibD1"
      }
    },
    {
      "cell_type": "markdown",
      "source": [
        "- Датасет: Используйте набор данных WIESP2022-NER из библиотеки `datasets`.\n",
        "- Загрузите данные и изучите структуру набора: обратите внимание на разметку сущностей и формат данных.\n",
        "- Разделите данные на обучающую, валидационную и тестовую выборки.\n",
        "- Инструменты: библиотека `datasets`."
      ],
      "metadata": {
        "id": "HhYo2H-nigPN"
      }
    },
    {
      "cell_type": "code",
      "source": [
        "data = load_dataset(DATASET_NAME)\n",
        "data"
      ],
      "metadata": {
        "id": "Bjl9xJjVieBD",
        "colab": {
          "base_uri": "https://localhost:8080/"
        },
        "outputId": "561df7ce-5f3d-41f0-95c5-119899d74189"
      },
      "execution_count": 4,
      "outputs": [
        {
          "output_type": "stream",
          "name": "stderr",
          "text": [
            "/usr/local/lib/python3.10/dist-packages/huggingface_hub/utils/_auth.py:94: UserWarning: \n",
            "The secret `HF_TOKEN` does not exist in your Colab secrets.\n",
            "To authenticate with the Hugging Face Hub, create a token in your settings tab (https://huggingface.co/settings/tokens), set it as secret in your Google Colab and restart your session.\n",
            "You will be able to reuse this secret in all of your notebooks.\n",
            "Please note that authentication is recommended but still optional to access public models or datasets.\n",
            "  warnings.warn(\n"
          ]
        },
        {
          "output_type": "execute_result",
          "data": {
            "text/plain": [
              "DatasetDict({\n",
              "    train: Dataset({\n",
              "        features: ['bibcode', 'label_studio_id', 'ner_ids', 'ner_tags', 'section', 'tokens', 'unique_id'],\n",
              "        num_rows: 1753\n",
              "    })\n",
              "    validation: Dataset({\n",
              "        features: ['bibcode', 'label_studio_id', 'ner_ids', 'ner_tags', 'section', 'tokens', 'unique_id'],\n",
              "        num_rows: 1366\n",
              "    })\n",
              "    test: Dataset({\n",
              "        features: ['bibcode', 'label_studio_id', 'ner_ids', 'ner_tags', 'section', 'tokens', 'unique_id'],\n",
              "        num_rows: 2505\n",
              "    })\n",
              "})"
            ]
          },
          "metadata": {},
          "execution_count": 4
        }
      ]
    },
    {
      "cell_type": "code",
      "source": [
        "labels = set()\n",
        "for example in data[\"train\"]:\n",
        "    labels.update(example[\"ner_tags\"])\n",
        "labels = sorted(labels)\n",
        "num_labels = len(labels)"
      ],
      "metadata": {
        "id": "TVPyr7uTGVNY"
      },
      "execution_count": 5,
      "outputs": []
    },
    {
      "cell_type": "code",
      "source": [
        "label2id = {label: i for i, label in enumerate(labels)}\n",
        "id2label = {i: label for label, i in label2id.items()}\n",
        "\n",
        "id2label"
      ],
      "metadata": {
        "colab": {
          "base_uri": "https://localhost:8080/"
        },
        "id": "e2lCwMx1l9ZG",
        "outputId": "41e98c32-e027-4912-d6ec-ba39465385f5"
      },
      "execution_count": 6,
      "outputs": [
        {
          "output_type": "execute_result",
          "data": {
            "text/plain": [
              "{0: 'B-Archive',\n",
              " 1: 'B-CelestialObject',\n",
              " 2: 'B-CelestialObjectRegion',\n",
              " 3: 'B-CelestialRegion',\n",
              " 4: 'B-Citation',\n",
              " 5: 'B-Collaboration',\n",
              " 6: 'B-ComputingFacility',\n",
              " 7: 'B-Database',\n",
              " 8: 'B-Dataset',\n",
              " 9: 'B-EntityOfFutureInterest',\n",
              " 10: 'B-Event',\n",
              " 11: 'B-Fellowship',\n",
              " 12: 'B-Formula',\n",
              " 13: 'B-Grant',\n",
              " 14: 'B-Identifier',\n",
              " 15: 'B-Instrument',\n",
              " 16: 'B-Location',\n",
              " 17: 'B-Mission',\n",
              " 18: 'B-Model',\n",
              " 19: 'B-ObservationalTechniques',\n",
              " 20: 'B-Observatory',\n",
              " 21: 'B-Organization',\n",
              " 22: 'B-Person',\n",
              " 23: 'B-Proposal',\n",
              " 24: 'B-Software',\n",
              " 25: 'B-Survey',\n",
              " 26: 'B-Tag',\n",
              " 27: 'B-Telescope',\n",
              " 28: 'B-TextGarbage',\n",
              " 29: 'B-URL',\n",
              " 30: 'B-Wavelength',\n",
              " 31: 'I-Archive',\n",
              " 32: 'I-CelestialObject',\n",
              " 33: 'I-CelestialObjectRegion',\n",
              " 34: 'I-CelestialRegion',\n",
              " 35: 'I-Citation',\n",
              " 36: 'I-Collaboration',\n",
              " 37: 'I-ComputingFacility',\n",
              " 38: 'I-Database',\n",
              " 39: 'I-Dataset',\n",
              " 40: 'I-EntityOfFutureInterest',\n",
              " 41: 'I-Event',\n",
              " 42: 'I-Fellowship',\n",
              " 43: 'I-Formula',\n",
              " 44: 'I-Grant',\n",
              " 45: 'I-Identifier',\n",
              " 46: 'I-Instrument',\n",
              " 47: 'I-Location',\n",
              " 48: 'I-Mission',\n",
              " 49: 'I-Model',\n",
              " 50: 'I-ObservationalTechniques',\n",
              " 51: 'I-Observatory',\n",
              " 52: 'I-Organization',\n",
              " 53: 'I-Person',\n",
              " 54: 'I-Proposal',\n",
              " 55: 'I-Software',\n",
              " 56: 'I-Survey',\n",
              " 57: 'I-Tag',\n",
              " 58: 'I-Telescope',\n",
              " 59: 'I-TextGarbage',\n",
              " 60: 'I-URL',\n",
              " 61: 'I-Wavelength',\n",
              " 62: 'O'}"
            ]
          },
          "metadata": {},
          "execution_count": 6
        }
      ]
    },
    {
      "cell_type": "markdown",
      "source": [
        "## 3. Подготовка токенов для модели"
      ],
      "metadata": {
        "id": "-0iA-srZi3eW"
      }
    },
    {
      "cell_type": "markdown",
      "source": [
        "- Загрузите токенайзер для модели BERT с помощью `transformers` (например, bert-base-cased).\n",
        "- Примените токенизацию к текстам, сохраняя разметку сущностей.\n",
        "- Учтите, что некоторые сущности могут быть разбиты на несколько токенов.\n",
        "- Инструменты: `AutoTokenizer` из `transformers`."
      ],
      "metadata": {
        "id": "5rBXiOw2i93f"
      }
    },
    {
      "cell_type": "code",
      "source": [
        "tokenizer = AutoTokenizer.from_pretrained(TOKEN_MODEL_NAME)"
      ],
      "metadata": {
        "id": "qA3kzEbBi7iw"
      },
      "execution_count": 7,
      "outputs": []
    },
    {
      "cell_type": "code",
      "source": [
        "def tokenize_and_align_labels(examples):\n",
        "    tokenized_inputs = tokenizer(examples[\"tokens\"], max_length=512, padding='max_length', truncation=True, is_split_into_words=True)\n",
        "    labels = []\n",
        "    for i, label in enumerate(examples[\"ner_ids\"]):\n",
        "        word_ids = tokenized_inputs.word_ids(batch_index=i)\n",
        "        label_ids = []\n",
        "        for word_idx in word_ids:\n",
        "            if word_idx is None:\n",
        "                label_ids.append(-100)\n",
        "            else:\n",
        "                label_ids.append(label[word_idx])\n",
        "        # Also labels are padded to max_length\n",
        "        label_ids += [-100] * (512 - len(label_ids))\n",
        "        labels.append(label_ids)\n",
        "    tokenized_inputs[\"labels\"] = labels\n",
        "    return tokenized_inputs\n",
        "\n",
        "tokenized_datasets = data.map(tokenize_and_align_labels, batched=True)"
      ],
      "metadata": {
        "id": "q8kEAFguxDt3"
      },
      "execution_count": 8,
      "outputs": []
    },
    {
      "cell_type": "code",
      "source": [
        "test_dataset = tokenized_datasets[\"test\"]\n",
        "tokenized_datasets = tokenized_datasets.remove_columns([\"tokens\",\"ner_tags\"])"
      ],
      "metadata": {
        "id": "hm6mWcxqxxzw"
      },
      "execution_count": 9,
      "outputs": []
    },
    {
      "cell_type": "code",
      "source": [
        "train_dataset = tokenized_datasets[\"train\"]\n",
        "valid_dataset = tokenized_datasets[\"validation\"]"
      ],
      "metadata": {
        "id": "g_1OgH0Q2Wdp"
      },
      "execution_count": 10,
      "outputs": []
    },
    {
      "cell_type": "code",
      "source": [
        "data_collator = DataCollatorForTokenClassification(tokenizer)"
      ],
      "metadata": {
        "id": "gtDw2yqv7ROT"
      },
      "execution_count": 11,
      "outputs": []
    },
    {
      "cell_type": "code",
      "source": [
        "seqeval = evaluate.load(\"seqeval\")\n",
        "\n",
        "def compute_metrics(eval_preds, label2id, id2label):\n",
        "  pred_logits, labels = eval_preds\n",
        "\n",
        "  pred_logits = np.argmax(pred_logits, axis=2)\n",
        "\n",
        "  predictions = [\n",
        "      [id2label[eval_preds] for (eval_preds, l) in zip(prediction, label) if l != -100]\n",
        "      for prediction, label in zip(pred_logits, labels)\n",
        "  ]\n",
        "\n",
        "  references = [\n",
        "      [id2label[l] for (eval_preds, l) in zip(prediction, label) if l != -100]\n",
        "      for prediction, label in zip(pred_logits, labels)\n",
        "  ]\n",
        "\n",
        "  results = seqeval.compute(predictions=predictions, references=references)\n",
        "  return {\n",
        "      \"precision\": results[\"overall_precision\"],\n",
        "      \"recall\": results[\"overall_recall\"],\n",
        "      \"f1\": results[\"overall_f1\"],\n",
        "      \"accuracy\": results[\"overall_accuracy\"],\n",
        "  }"
      ],
      "metadata": {
        "id": "w20bAtep64AG"
      },
      "execution_count": 12,
      "outputs": []
    },
    {
      "cell_type": "markdown",
      "source": [
        "## 4. Создание модели и настройка обучения"
      ],
      "metadata": {
        "id": "bTRNh2pdjSZB"
      }
    },
    {
      "cell_type": "markdown",
      "source": [
        "- Модель: Загрузите предобученную модель BERT для классификации токенов.\n",
        "- Настройте модель для задачи NER, добавив нужное количество меток для классификации токенов.\n",
        "- Задайте параметры обучения, такие как размер батча, количество эпох и метод оптимизации.\n",
        "- Инструменты: `AutoModelForTokenClassification`, `TrainingArguments`, `Trainer` из `transformers`."
      ],
      "metadata": {
        "id": "TfCvDt15jVVO"
      }
    },
    {
      "cell_type": "code",
      "source": [
        "model = AutoModelForTokenClassification.from_pretrained(MODEL_NAME, num_labels=num_labels)"
      ],
      "metadata": {
        "colab": {
          "base_uri": "https://localhost:8080/"
        },
        "id": "11TT3bIm_Yno",
        "outputId": "e0690d62-d959-4a45-abfe-686c8ccb3220"
      },
      "execution_count": 13,
      "outputs": [
        {
          "output_type": "stream",
          "name": "stderr",
          "text": [
            "Some weights of XLMRobertaForTokenClassification were not initialized from the model checkpoint at FacebookAI/xlm-roberta-base and are newly initialized: ['classifier.bias', 'classifier.weight']\n",
            "You should probably TRAIN this model on a down-stream task to be able to use it for predictions and inference.\n"
          ]
        }
      ]
    },
    {
      "cell_type": "code",
      "source": [
        "args = TrainingArguments(\n",
        "    output_dir=\"./results\",\n",
        "    eval_strategy=\"epoch\",\n",
        "    save_strategy=\"epoch\",\n",
        "    per_device_train_batch_size=BATCH_SIZE,\n",
        "    per_device_eval_batch_size=BATCH_SIZE,\n",
        "    num_train_epochs=EPOCH,\n",
        "    weight_decay=0.01,\n",
        "    learning_rate=LR,\n",
        "    load_best_model_at_end=True,\n",
        "    metric_for_best_model=\"f1\",\n",
        ")"
      ],
      "metadata": {
        "id": "LUIbGZbcjTP_"
      },
      "execution_count": 14,
      "outputs": []
    },
    {
      "cell_type": "markdown",
      "source": [
        "## 5. Обучение модели"
      ],
      "metadata": {
        "id": "a41o20etjs7G"
      }
    },
    {
      "cell_type": "markdown",
      "source": [
        "- Используйте `Trainer` для обучения модели на обучающем наборе данных.\n",
        "- Мониторьте метрики обучения с помощью `tensorboard`.\n",
        "- Инструменты: `Trainer`, `tensorboard`."
      ],
      "metadata": {
        "id": "868F6hBJjx6A"
      }
    },
    {
      "cell_type": "code",
      "source": [
        "trainer = Trainer(\n",
        "   model=model,\n",
        "   args=args,\n",
        "   train_dataset=train_dataset,\n",
        "   eval_dataset=valid_dataset,\n",
        "   data_collator=data_collator,\n",
        "   processing_class=tokenizer,\n",
        "   compute_metrics=lambda x: compute_metrics(x, label2id, id2label)\n",
        ")"
      ],
      "metadata": {
        "id": "ZB8-WOh9jv-u"
      },
      "execution_count": 15,
      "outputs": []
    },
    {
      "cell_type": "code",
      "source": [
        "results = trainer.train()"
      ],
      "metadata": {
        "colab": {
          "base_uri": "https://localhost:8080/",
          "height": 894
        },
        "id": "sRvUTGAZZLc8",
        "outputId": "59418b02-84f1-4c24-f654-a27bb8b398fe"
      },
      "execution_count": 16,
      "outputs": [
        {
          "output_type": "stream",
          "name": "stderr",
          "text": [
            "\u001b[34m\u001b[1mwandb\u001b[0m: \u001b[33mWARNING\u001b[0m The `run_name` is currently set to the same value as `TrainingArguments.output_dir`. If this was not intended, please specify a different run name by setting the `TrainingArguments.run_name` parameter.\n",
            "\u001b[34m\u001b[1mwandb\u001b[0m: Using wandb-core as the SDK backend.  Please refer to https://wandb.me/wandb-core for more information.\n",
            "\u001b[34m\u001b[1mwandb\u001b[0m: Currently logged in as: \u001b[33mp-krylov\u001b[0m (\u001b[33mp-krylov-nsu\u001b[0m). Use \u001b[1m`wandb login --relogin`\u001b[0m to force relogin\n"
          ]
        },
        {
          "output_type": "display_data",
          "data": {
            "text/plain": [
              "<IPython.core.display.HTML object>"
            ],
            "text/html": [
              "Tracking run with wandb version 0.18.7"
            ]
          },
          "metadata": {}
        },
        {
          "output_type": "display_data",
          "data": {
            "text/plain": [
              "<IPython.core.display.HTML object>"
            ],
            "text/html": [
              "Run data is saved locally in <code>/content/wandb/run-20241203_173354-gad1euuk</code>"
            ]
          },
          "metadata": {}
        },
        {
          "output_type": "display_data",
          "data": {
            "text/plain": [
              "<IPython.core.display.HTML object>"
            ],
            "text/html": [
              "Syncing run <strong><a href='https://wandb.ai/p-krylov-nsu/huggingface/runs/gad1euuk' target=\"_blank\">./results</a></strong> to <a href='https://wandb.ai/p-krylov-nsu/huggingface' target=\"_blank\">Weights & Biases</a> (<a href='https://wandb.me/developer-guide' target=\"_blank\">docs</a>)<br/>"
            ]
          },
          "metadata": {}
        },
        {
          "output_type": "display_data",
          "data": {
            "text/plain": [
              "<IPython.core.display.HTML object>"
            ],
            "text/html": [
              " View project at <a href='https://wandb.ai/p-krylov-nsu/huggingface' target=\"_blank\">https://wandb.ai/p-krylov-nsu/huggingface</a>"
            ]
          },
          "metadata": {}
        },
        {
          "output_type": "display_data",
          "data": {
            "text/plain": [
              "<IPython.core.display.HTML object>"
            ],
            "text/html": [
              " View run at <a href='https://wandb.ai/p-krylov-nsu/huggingface/runs/gad1euuk' target=\"_blank\">https://wandb.ai/p-krylov-nsu/huggingface/runs/gad1euuk</a>"
            ]
          },
          "metadata": {}
        },
        {
          "output_type": "display_data",
          "data": {
            "text/plain": [
              "<IPython.core.display.HTML object>"
            ],
            "text/html": [
              "\n",
              "    <div>\n",
              "      \n",
              "      <progress value='4390' max='4390' style='width:300px; height:20px; vertical-align: middle;'></progress>\n",
              "      [4390/4390 1:04:14, Epoch 10/10]\n",
              "    </div>\n",
              "    <table border=\"1\" class=\"dataframe\">\n",
              "  <thead>\n",
              " <tr style=\"text-align: left;\">\n",
              "      <th>Epoch</th>\n",
              "      <th>Training Loss</th>\n",
              "      <th>Validation Loss</th>\n",
              "      <th>Precision</th>\n",
              "      <th>Recall</th>\n",
              "      <th>F1</th>\n",
              "      <th>Accuracy</th>\n",
              "    </tr>\n",
              "  </thead>\n",
              "  <tbody>\n",
              "    <tr>\n",
              "      <td>1</td>\n",
              "      <td>No log</td>\n",
              "      <td>0.748816</td>\n",
              "      <td>0.420740</td>\n",
              "      <td>0.464482</td>\n",
              "      <td>0.441530</td>\n",
              "      <td>0.822338</td>\n",
              "    </tr>\n",
              "    <tr>\n",
              "      <td>2</td>\n",
              "      <td>1.087100</td>\n",
              "      <td>0.483367</td>\n",
              "      <td>0.623738</td>\n",
              "      <td>0.579202</td>\n",
              "      <td>0.600645</td>\n",
              "      <td>0.881780</td>\n",
              "    </tr>\n",
              "    <tr>\n",
              "      <td>3</td>\n",
              "      <td>0.506600</td>\n",
              "      <td>0.398282</td>\n",
              "      <td>0.648589</td>\n",
              "      <td>0.643773</td>\n",
              "      <td>0.646172</td>\n",
              "      <td>0.899682</td>\n",
              "    </tr>\n",
              "    <tr>\n",
              "      <td>4</td>\n",
              "      <td>0.345700</td>\n",
              "      <td>0.374197</td>\n",
              "      <td>0.664767</td>\n",
              "      <td>0.693681</td>\n",
              "      <td>0.678916</td>\n",
              "      <td>0.907075</td>\n",
              "    </tr>\n",
              "    <tr>\n",
              "      <td>5</td>\n",
              "      <td>0.250200</td>\n",
              "      <td>0.370338</td>\n",
              "      <td>0.667785</td>\n",
              "      <td>0.707407</td>\n",
              "      <td>0.687025</td>\n",
              "      <td>0.908663</td>\n",
              "    </tr>\n",
              "    <tr>\n",
              "      <td>6</td>\n",
              "      <td>0.183000</td>\n",
              "      <td>0.341300</td>\n",
              "      <td>0.686846</td>\n",
              "      <td>0.736922</td>\n",
              "      <td>0.711003</td>\n",
              "      <td>0.915034</td>\n",
              "    </tr>\n",
              "    <tr>\n",
              "      <td>7</td>\n",
              "      <td>0.145400</td>\n",
              "      <td>0.353021</td>\n",
              "      <td>0.701320</td>\n",
              "      <td>0.737200</td>\n",
              "      <td>0.718813</td>\n",
              "      <td>0.916987</td>\n",
              "    </tr>\n",
              "    <tr>\n",
              "      <td>8</td>\n",
              "      <td>0.115000</td>\n",
              "      <td>0.353000</td>\n",
              "      <td>0.711476</td>\n",
              "      <td>0.744563</td>\n",
              "      <td>0.727644</td>\n",
              "      <td>0.919832</td>\n",
              "    </tr>\n",
              "    <tr>\n",
              "      <td>9</td>\n",
              "      <td>0.115000</td>\n",
              "      <td>0.357885</td>\n",
              "      <td>0.710048</td>\n",
              "      <td>0.750345</td>\n",
              "      <td>0.729640</td>\n",
              "      <td>0.919828</td>\n",
              "    </tr>\n",
              "    <tr>\n",
              "      <td>10</td>\n",
              "      <td>0.091800</td>\n",
              "      <td>0.364543</td>\n",
              "      <td>0.715965</td>\n",
              "      <td>0.749143</td>\n",
              "      <td>0.732178</td>\n",
              "      <td>0.920648</td>\n",
              "    </tr>\n",
              "  </tbody>\n",
              "</table><p>"
            ]
          },
          "metadata": {}
        },
        {
          "output_type": "stream",
          "name": "stderr",
          "text": [
            "/usr/local/lib/python3.10/dist-packages/seqeval/metrics/v1.py:57: UndefinedMetricWarning: Precision and F-score are ill-defined and being set to 0.0 in labels with no predicted samples. Use `zero_division` parameter to control this behavior.\n",
            "  _warn_prf(average, modifier, msg_start, len(result))\n",
            "/usr/local/lib/python3.10/dist-packages/seqeval/metrics/v1.py:57: UndefinedMetricWarning: Precision and F-score are ill-defined and being set to 0.0 in labels with no predicted samples. Use `zero_division` parameter to control this behavior.\n",
            "  _warn_prf(average, modifier, msg_start, len(result))\n",
            "/usr/local/lib/python3.10/dist-packages/seqeval/metrics/v1.py:57: UndefinedMetricWarning: Precision and F-score are ill-defined and being set to 0.0 in labels with no predicted samples. Use `zero_division` parameter to control this behavior.\n",
            "  _warn_prf(average, modifier, msg_start, len(result))\n",
            "/usr/local/lib/python3.10/dist-packages/seqeval/metrics/v1.py:57: UndefinedMetricWarning: Precision and F-score are ill-defined and being set to 0.0 in labels with no predicted samples. Use `zero_division` parameter to control this behavior.\n",
            "  _warn_prf(average, modifier, msg_start, len(result))\n",
            "/usr/local/lib/python3.10/dist-packages/seqeval/metrics/v1.py:57: UndefinedMetricWarning: Precision and F-score are ill-defined and being set to 0.0 in labels with no predicted samples. Use `zero_division` parameter to control this behavior.\n",
            "  _warn_prf(average, modifier, msg_start, len(result))\n",
            "/usr/local/lib/python3.10/dist-packages/seqeval/metrics/v1.py:57: UndefinedMetricWarning: Precision and F-score are ill-defined and being set to 0.0 in labels with no predicted samples. Use `zero_division` parameter to control this behavior.\n",
            "  _warn_prf(average, modifier, msg_start, len(result))\n",
            "/usr/local/lib/python3.10/dist-packages/seqeval/metrics/v1.py:57: UndefinedMetricWarning: Precision and F-score are ill-defined and being set to 0.0 in labels with no predicted samples. Use `zero_division` parameter to control this behavior.\n",
            "  _warn_prf(average, modifier, msg_start, len(result))\n",
            "/usr/local/lib/python3.10/dist-packages/seqeval/metrics/v1.py:57: UndefinedMetricWarning: Precision and F-score are ill-defined and being set to 0.0 in labels with no predicted samples. Use `zero_division` parameter to control this behavior.\n",
            "  _warn_prf(average, modifier, msg_start, len(result))\n",
            "/usr/local/lib/python3.10/dist-packages/seqeval/metrics/v1.py:57: UndefinedMetricWarning: Precision and F-score are ill-defined and being set to 0.0 in labels with no predicted samples. Use `zero_division` parameter to control this behavior.\n",
            "  _warn_prf(average, modifier, msg_start, len(result))\n",
            "/usr/local/lib/python3.10/dist-packages/seqeval/metrics/v1.py:57: UndefinedMetricWarning: Precision and F-score are ill-defined and being set to 0.0 in labels with no predicted samples. Use `zero_division` parameter to control this behavior.\n",
            "  _warn_prf(average, modifier, msg_start, len(result))\n"
          ]
        }
      ]
    },
    {
      "cell_type": "markdown",
      "source": [
        "## 6. Оценка модели"
      ],
      "metadata": {
        "id": "A8AgRsDSj64O"
      }
    },
    {
      "cell_type": "markdown",
      "source": [
        "- Оцените модель на тестовой выборке, используя метрику F1 для сущностей.\n",
        "- Сравните F1 по сущностям и по токенам с помощью библиотеки `seqeval`.\n",
        "- Инструменты: `evaluate`, `seqeval`."
      ],
      "metadata": {
        "id": "VI2_klrCj9il"
      }
    },
    {
      "cell_type": "code",
      "source": [
        "trainer.evaluate()"
      ],
      "metadata": {
        "id": "bEF-FkROj7pR",
        "colab": {
          "base_uri": "https://localhost:8080/",
          "height": 248
        },
        "outputId": "79261798-b1f2-432e-e480-6f4045700596"
      },
      "execution_count": 17,
      "outputs": [
        {
          "output_type": "display_data",
          "data": {
            "text/plain": [
              "<IPython.core.display.HTML object>"
            ],
            "text/html": [
              "\n",
              "    <div>\n",
              "      \n",
              "      <progress value='342' max='342' style='width:300px; height:20px; vertical-align: middle;'></progress>\n",
              "      [342/342 00:43]\n",
              "    </div>\n",
              "    "
            ]
          },
          "metadata": {}
        },
        {
          "output_type": "stream",
          "name": "stderr",
          "text": [
            "/usr/local/lib/python3.10/dist-packages/seqeval/metrics/v1.py:57: UndefinedMetricWarning: Precision and F-score are ill-defined and being set to 0.0 in labels with no predicted samples. Use `zero_division` parameter to control this behavior.\n",
            "  _warn_prf(average, modifier, msg_start, len(result))\n"
          ]
        },
        {
          "output_type": "execute_result",
          "data": {
            "text/plain": [
              "{'eval_loss': 0.36454305052757263,\n",
              " 'eval_precision': 0.7159645983459882,\n",
              " 'eval_recall': 0.749142893288633,\n",
              " 'eval_f1': 0.7321780739769896,\n",
              " 'eval_accuracy': 0.9206476369728265,\n",
              " 'eval_runtime': 56.2204,\n",
              " 'eval_samples_per_second': 24.297,\n",
              " 'eval_steps_per_second': 6.083,\n",
              " 'epoch': 10.0}"
            ]
          },
          "metadata": {},
          "execution_count": 17
        }
      ]
    },
    {
      "cell_type": "markdown",
      "source": [
        "## 7. Визуализация результатов"
      ],
      "metadata": {
        "id": "dFwFpGEokI4m"
      }
    },
    {
      "cell_type": "markdown",
      "source": [
        "- Визуализируйте предсказанные сущности в тексте с помощью `spacy` и его модуля `displacy`.\n",
        "- Проанализируйте ошибки модели и случаи, где сущности распознаны неправильно.\n",
        "- Инструменты: `spacy`, `displacy`."
      ],
      "metadata": {
        "id": "bjd5isnLkMoI"
      }
    },
    {
      "cell_type": "code",
      "source": [],
      "metadata": {
        "id": "Nr7gENuHkK39"
      },
      "execution_count": 17,
      "outputs": []
    }
  ]
}